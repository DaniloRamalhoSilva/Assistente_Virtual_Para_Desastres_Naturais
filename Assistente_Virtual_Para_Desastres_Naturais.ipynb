{
  "nbformat": 4,
  "nbformat_minor": 0,
  "metadata": {
    "colab": {
      "provenance": []
    },
    "kernelspec": {
      "name": "python3",
      "display_name": "Python 3"
    },
    "language_info": {
      "name": "python"
    }
  },
  "cells": [
    {
      "cell_type": "markdown",
      "source": [
        "1) Instalação de dependências"
      ],
      "metadata": {
        "id": "ymSahvKlNSwy"
      }
    },
    {
      "cell_type": "code",
      "execution_count": 1,
      "metadata": {
        "colab": {
          "base_uri": "https://localhost:8080/"
        },
        "id": "8T8oBBt2PC5s",
        "outputId": "91205a4a-48e0-48fe-a6b3-02ca14d58c72"
      },
      "outputs": [
        {
          "output_type": "stream",
          "name": "stdout",
          "text": [
            "Hit:1 https://cloud.r-project.org/bin/linux/ubuntu jammy-cran40/ InRelease\n",
            "Hit:2 https://developer.download.nvidia.com/compute/cuda/repos/ubuntu2204/x86_64  InRelease\n",
            "Hit:3 http://archive.ubuntu.com/ubuntu jammy InRelease\n",
            "Hit:4 http://security.ubuntu.com/ubuntu jammy-security InRelease\n",
            "Hit:5 https://r2u.stat.illinois.edu/ubuntu jammy InRelease\n",
            "Hit:6 http://archive.ubuntu.com/ubuntu jammy-updates InRelease\n",
            "Hit:7 http://archive.ubuntu.com/ubuntu jammy-backports InRelease\n",
            "Hit:8 https://ppa.launchpadcontent.net/deadsnakes/ppa/ubuntu jammy InRelease\n",
            "Hit:9 https://ppa.launchpadcontent.net/graphics-drivers/ppa/ubuntu jammy InRelease\n",
            "Hit:10 https://ppa.launchpadcontent.net/ubuntugis/ppa/ubuntu jammy InRelease\n",
            "Reading package lists... Done\n",
            "W: Skipping acquire of configured file 'main/source/Sources' as repository 'https://r2u.stat.illinois.edu/ubuntu jammy InRelease' does not seem to provide it (sources.list entry misspelt?)\n",
            "Reading package lists... Done\n",
            "Building dependency tree... Done\n",
            "Reading state information... Done\n",
            "tesseract-ocr is already the newest version (4.1.1-2.1build1).\n",
            "poppler-utils is already the newest version (22.02.0-2ubuntu0.8).\n",
            "0 upgraded, 0 newly installed, 0 to remove and 35 not upgraded.\n",
            "\u001b[2K   \u001b[90m━━━━━━━━━━━━━━━━━━━━━━━━━━━━━━━━━━━━━━━━\u001b[0m \u001b[32m64.5/64.5 kB\u001b[0m \u001b[31m1.5 MB/s\u001b[0m eta \u001b[36m0:00:00\u001b[0m\n",
            "\u001b[?25h"
          ]
        }
      ],
      "source": [
        "# (1) Atualiza apt e instala tesseract + poppler-utils\n",
        "!sudo apt-get update\n",
        "!sudo apt-get install -y poppler-utils tesseract-ocr\n",
        "\n",
        "# (2) Instala todos os pacotes Python de uma vez\n",
        "%pip install --quiet --upgrade \\\n",
        "    langchain-text-splitters langchain-community langgraph \\\n",
        "    langchain-openai langchain-core pypdf unstructured \\\n",
        "    youtube-transcript-api pdfminer.six \\\n",
        "    unstructured_inference pdf2image \\\n",
        "    pytesseract pillow unstructured-pytesseract \\\n",
        "    PyPDF2 pi-heif python-docx\n",
        "\n"
      ]
    },
    {
      "cell_type": "markdown",
      "source": [
        "2) Importações das bibliotecas necessarias"
      ],
      "metadata": {
        "id": "BppQusInQLLe"
      }
    },
    {
      "cell_type": "code",
      "source": [
        "import os\n",
        "import time\n",
        "from google.colab import userdata\n",
        "from typing import Literal\n",
        "import requests\n",
        "import re\n",
        "\n",
        "from langchain.chat_models import init_chat_model\n",
        "from langchain_core.vectorstores import InMemoryVectorStore\n",
        "from langchain_openai import OpenAIEmbeddings\n",
        "\n",
        "from langchain.memory import ConversationBufferMemory\n",
        "from langchain.chains import ConversationalRetrievalChain\n",
        "from langchain import PromptTemplate, LLMChain\n",
        "\n",
        "from langchain.document_loaders import TextLoader, UnstructuredPDFLoader, UnstructuredWordDocumentLoader\n",
        "from langchain.text_splitter import RecursiveCharacterTextSplitter"
      ],
      "metadata": {
        "id": "8BI5hOn9ivWF"
      },
      "execution_count": 2,
      "outputs": []
    },
    {
      "cell_type": "markdown",
      "source": [
        "3) Conficuraçãa da API e definição dos perfis de usuarios"
      ],
      "metadata": {
        "id": "Iky7f4VmoMZT"
      }
    },
    {
      "cell_type": "code",
      "source": [
        "# --------------------------------------------------------\n",
        "# 3.1) Inicializa o LLM e memória\n",
        "# --------------------------------------------------------\n",
        "os.environ[\"OPENAI_API_KEY\"] = userdata.get('OPENAI_API_KEY_2')\n",
        "client = init_chat_model(\"gpt-4o-mini\", model_provider=\"openai\")\n",
        "\n",
        "memory = ConversationBufferMemory(\n",
        "    memory_key=\"chat_history\",\n",
        "    return_messages=True,\n",
        "    input_key=\"question\"\n",
        ")\n",
        "\n",
        "# --------------------------------------------------------\n",
        "# 3.2) Definição de perfis de usuário\n",
        "# --------------------------------------------------------\n",
        "PERFIS_INFO = {\n",
        "    'vitima': {\n",
        "        'tipo_info': 'Resgate, primeiros socorros, rotas seguras.',\n",
        "        'tom': 'Curto, empático e urgente.',\n",
        "        'prioridade': 'Muito alta. Respostas devem focar na segurança imediata e clareza.',\n",
        "    },\n",
        "    'morador': {\n",
        "        'tipo_info': 'Alertas meteorológicos, preparação e evacuação.',\n",
        "        'tom': 'Explicativo e preventivo.',\n",
        "        'prioridade': 'Alta. Deve ajudar a evitar riscos e oferecer orientações claras.',\n",
        "    },\n",
        "    'familiar': {\n",
        "        'tipo_info': 'Localização de vítimas, contatos úteis, abrigos e hospitais.',\n",
        "        'tom': 'Informativo, empático e tranquilizador.',\n",
        "        'prioridade': 'Alta. Reforce caminhos seguros para encontrar a pessoa e acalmar o usuário.',\n",
        "    }\n",
        "}"
      ],
      "metadata": {
        "colab": {
          "base_uri": "https://localhost:8080/"
        },
        "id": "E862Oc9cQKBv",
        "outputId": "ef1b46c6-c06f-42cc-9a4c-19fe07f6e8ec"
      },
      "execution_count": 3,
      "outputs": [
        {
          "output_type": "stream",
          "name": "stderr",
          "text": [
            "<ipython-input-3-9bf5061b55e4>:7: LangChainDeprecationWarning: Please see the migration guide at: https://python.langchain.com/docs/versions/migrating_memory/\n",
            "  memory = ConversationBufferMemory(\n"
          ]
        }
      ]
    },
    {
      "cell_type": "markdown",
      "source": [
        "3) Carrega e indexa documentos"
      ],
      "metadata": {
        "id": "1S9AIBudNsJ3"
      }
    },
    {
      "cell_type": "code",
      "source": [
        "PASTA_DOCUMENTOS = \"/content/docsw\"\n",
        "\n",
        "docs = []\n",
        "if os.path.exists(PASTA_DOCUMENTOS):\n",
        "    for nome_arquivo in os.listdir(PASTA_DOCUMENTOS):\n",
        "        caminho_completo = os.path.join(PASTA_DOCUMENTOS, nome_arquivo)\n",
        "\n",
        "        if nome_arquivo.lower().endswith(\".txt\"):\n",
        "            loader = TextLoader(caminho_completo, encoding=\"utf-8\")\n",
        "            docs.extend(loader.load())\n",
        "\n",
        "        elif nome_arquivo.lower().endswith(\".docx\"):\n",
        "            loader = UnstructuredWordDocumentLoader(caminho_completo)\n",
        "            try:\n",
        "                docs.extend(loader.load())\n",
        "            except Exception as e:\n",
        "                print(f\"Erro ao carregar o DOCX {nome_arquivo}: {e}\")\n",
        "\n",
        "        else:\n",
        "            print(f\"Ignorando {nome_arquivo}: formato não suportado por este exemplo.\")\n",
        "else:\n",
        "    print(f\"A pasta de documentos {PASTA_DOCUMENTOS} não foi encontrada.\")\n",
        "\n",
        "# divisão em chunks e criação do vectorstore:\n",
        "text_splitter = RecursiveCharacterTextSplitter(\n",
        "    chunk_size=1000,\n",
        "    chunk_overlap=200\n",
        ")\n",
        "documentos_chunked = []\n",
        "for documento in docs:\n",
        "    if isinstance(documento.page_content, str):\n",
        "        textos_divididos = text_splitter.split_text(documento.page_content)\n",
        "        for chunk in textos_divididos:\n",
        "            documentos_chunked.append(\n",
        "                documento.__class__(page_content=chunk, metadata=documento.metadata)\n",
        "            )\n",
        "    else:\n",
        "        print(f\"Ignorando documento com conteúdo não string: {documento.metadata}\")\n",
        "\n",
        "print(f\"Documents originais: {len(docs)}\")\n",
        "print(f\"Total de chunks após divisão: {len(documentos_chunked)}\")\n",
        "\n",
        "if documentos_chunked:\n",
        "    embeddings = OpenAIEmbeddings()\n",
        "    vectorstore_real = InMemoryVectorStore.from_documents(\n",
        "        documents=documentos_chunked,\n",
        "        embedding=embeddings\n",
        "    )\n",
        "\n",
        "    qa_chain = ConversationalRetrievalChain.from_llm(\n",
        "        llm=client,\n",
        "        retriever=vectorstore_real.as_retriever(),\n",
        "        memory=memory,\n",
        "        verbose=False\n",
        "    )\n",
        "else:\n",
        "    print(\"Não há documentos processados para criar o vector store e iniciar o chat.\")\n"
      ],
      "metadata": {
        "colab": {
          "base_uri": "https://localhost:8080/"
        },
        "id": "UrKmL35UPIcj",
        "outputId": "fd6c7e69-7d7b-4bdf-c476-51e61cc6e095"
      },
      "execution_count": 4,
      "outputs": [
        {
          "output_type": "stream",
          "name": "stdout",
          "text": [
            "Documents originais: 8\n",
            "Total de chunks após divisão: 1188\n"
          ]
        }
      ]
    },
    {
      "cell_type": "markdown",
      "source": [
        "4) Funçoes auxiliares"
      ],
      "metadata": {
        "id": "mCKcbiynogWY"
      }
    },
    {
      "cell_type": "code",
      "source": [
        "# --------------------------------------------------------\n",
        "# 4.1) Função para obter previsão de 3 dias (via wttr.in)\n",
        "# --------------------------------------------------------\n",
        "def obter_previsao_3_dias(local_padrao: str = \"Sao Paulo\") -> str:\n",
        "    \"\"\"\n",
        "    Retorna uma string com a previsão para hoje, amanhã e depois de amanhã\n",
        "    em formato: data / descrição ao meio-dia / mínima / máxima.\n",
        "    Usa wttr.in em JSON (sem API key).\n",
        "    \"\"\"\n",
        "    cidade = local_padrao.replace(\" \", \"%20\")\n",
        "    url = f\"https://wttr.in/{cidade}?lang=pt&format=j1\"\n",
        "    try:\n",
        "        resp = requests.get(url, timeout=10)\n",
        "        resp.raise_for_status()\n",
        "        dados = resp.json()\n",
        "    except Exception:\n",
        "        return (\n",
        "            \"Desculpe, não consegui obter a previsão do tempo no momento. \"\n",
        "            \"Tente novamente mais tarde.\"\n",
        "        )\n",
        "\n",
        "    # Extrai a lista de 3 dias: índices 0 (hoje), 1 (amanhã), 2 (depois de amanhã)\n",
        "    dias = dados.get(\"weather\", [])\n",
        "    if len(dias) < 3:\n",
        "        return \"Não consegui encontrar dados completos de previsão para os próximos 3 dias.\"\n",
        "\n",
        "    linhas = [f\"🌦️ Previsão para os próximos 3 dias em {local_padrao}:\\n\"]\n",
        "    for idx, dia in enumerate(dias[:3]):\n",
        "        data = dia.get(\"date\", \"–\")\n",
        "        min_c = dia.get(\"mintempC\", \"–\")\n",
        "        max_c = dia.get(\"maxtempC\", \"–\")\n",
        "        # Pega a descrição ao meio-dia (posição aproximada)\n",
        "        hora_meio = dia.get(\"hourly\", [])\n",
        "        desc_meio = \"–\"\n",
        "        if len(hora_meio) > 4:\n",
        "            desc_meio = hora_meio[4].get(\"weatherDesc\", [{\"value\": \"–\"}])[0].get(\"value\", \"–\")\n",
        "\n",
        "        if idx == 0:\n",
        "            rotulo = \"HOJE\"\n",
        "        elif idx == 1:\n",
        "            rotulo = \"AMANHÃ\"\n",
        "        else:\n",
        "            rotulo = \"DEPOIS DE AMANHÃ\"\n",
        "\n",
        "        linhas.append(\n",
        "            f\"- {rotulo} ({data}): {desc_meio}, mínima {min_c}°C / máxima {max_c}°C\"\n",
        "        )\n",
        "\n",
        "    return \"\\n\".join(linhas)\n"
      ],
      "metadata": {
        "id": "t3_qg0QeVlch"
      },
      "execution_count": 5,
      "outputs": []
    },
    {
      "cell_type": "markdown",
      "source": [
        "4) Função para iniciar o chat com perfis e memória"
      ],
      "metadata": {
        "id": "dVqlpy4MN2AW"
      }
    },
    {
      "cell_type": "code",
      "source": [
        "# --------------------------------------------------------\n",
        "# 4.1) Função principal de chat\n",
        "# --------------------------------------------------------\n",
        "def iniciar_chat_com_memoria():\n",
        "    # 1) Pré-carrega a previsão de 3 dias e armazena numa variável (sem printar)\n",
        "    previsao_3_dias = obter_previsao_3_dias(local_padrao=\"Sao Paulo\")\n",
        "    # (observação: não exibimos nesse momento, apenas guardamos para injetar no contexto)\n",
        "\n",
        "    # 2) Em seguida, pede nome e perfil (fluxo original)\n",
        "    print(\"👋 Olá! Sou um assistente virtual especializado em desastres naturais.\\n\")\n",
        "    print(\"Digite seu **nome** seguido do número ou nome do seu perfil:\")\n",
        "    print(\" 1 - Vítima: Você está em perigo imediato e precisa de ajuda.\")\n",
        "    print(\" 2 - Morador: Você mora em região afetada ou sob risco.\")\n",
        "    print(\" 3 - Familiar: Está procurando informações sobre alguém afetado.\\n\")\n",
        "\n",
        "    opcoes_validas = {\n",
        "        '1': 'vitima',\n",
        "        'vitima': 'vitima',\n",
        "        '2': 'morador',\n",
        "        'morador': 'morador',\n",
        "        '3': 'familiar',\n",
        "        'familiar': 'familiar'\n",
        "    }\n",
        "\n",
        "    nome_usuario = ''\n",
        "    perfil = ''\n",
        "\n",
        "    while perfil == '':\n",
        "        entrada = input(\"Digite seu nome e número do perfil (ex: Ana 2): \").strip().lower()\n",
        "        partes = entrada.split()\n",
        "        if len(partes) < 2:\n",
        "            print(\"⚠️ Entrada incompleta. Escreva seu nome e perfil. Ex: João 1\")\n",
        "            continue\n",
        "\n",
        "        *nome_parts, perfil_raw = partes\n",
        "        nome_usuario = ' '.join(p.capitalize() for p in nome_parts)\n",
        "        perfil = opcoes_validas.get(perfil_raw.strip(), '')\n",
        "\n",
        "        if not perfil:\n",
        "            print(\"⚠️ Perfil inválido. Tente novamente com 1, 2, 3 ou nome correspondente.\")\n",
        "\n",
        "    info = PERFIS_INFO[perfil]\n",
        "    print(f\"\\n✅ Perfil selecionado: {perfil.upper()} — como posso te ajudar hoje, {nome_usuario}?\\n\"\n",
        "          f\"⚠️ Obs. IMPORTANTE: esta orientação não substitui contato com os serviços oficiais (Defesa Civil, Corpo de Bombeiros, SAMU etc.).\"\n",
        "          f\"(Digite 'sair' para encerrar)\\n\")\n",
        "\n",
        "    # 3) Loop de interação\n",
        "    while True:\n",
        "        mensagem = input(f\"🧑‍💬 {nome_usuario}: \").strip()\n",
        "        if mensagem.lower() in ['sair', 'exit', 'quit']:\n",
        "            print(f\"👋 Sessão encerrada. Se cuide, {nome_usuario}!\")\n",
        "            break\n",
        "\n",
        "        texto_minus = mensagem.lower()\n",
        "\n",
        "        # 4) Se o usuário perguntar sobre o clima, exibe a previsão que já está em 'previsao_3_dias'\n",
        "        if (\"previsão\" in texto_minus and \"tempo\" in texto_minus) or (\"clima\" in texto_minus):\n",
        "            print(f\"\\n🤖 Assistente (Previsão do Tempo):\\n{previsao_3_dias}\\n\")\n",
        "            continue\n",
        "\n",
        "        # 5) Senão, monta a pergunta incluindo NO CONTEXTO a previsão já pré-carregada\n",
        "        #    Assim, o LLM “saberá” a previsão, mas só irá usá-la se for relevante para a resposta.\n",
        "        question_com_contexto = (\n",
        "            f\"{nome_usuario} ({perfil.upper()}): {mensagem}\\n\\n\"\n",
        "            f\"— Contexto adicional (previsão de 3 dias):\\n\"\n",
        "            f\"{previsao_3_dias}\\n\\n\"\n",
        "            f\"— Contexto do perfil: {info['tipo_info']} — {info['tom']} — {info['prioridade']}\"\n",
        "        )\n",
        "\n",
        "        resposta = qa_chain.invoke({\n",
        "            \"question\": question_com_contexto,\n",
        "            \"chat_history\": memory.chat_memory.messages\n",
        "        })\n",
        "        print(\"\\n🤖 Assistente:\", resposta['answer'], \"\\n\")\n",
        "        time.sleep(1)\n"
      ],
      "metadata": {
        "id": "lRpSnAI1cyif"
      },
      "execution_count": 18,
      "outputs": []
    },
    {
      "cell_type": "markdown",
      "source": [
        "5) Testes simulando diferentes perfis e situações: enchentes, incêndios, terremotos"
      ],
      "metadata": {
        "id": "lvXfSyEnOqY1"
      }
    },
    {
      "cell_type": "code",
      "source": [
        "# --------------------------------------------------------\n",
        "# 5.1) testando perfil \"VITIMA\", caso de enchente\n",
        "# -------------------------------------------------------\n",
        "#script de perguntas:\n",
        "# esta tudo alagado e estou no telhado de casa, o que devo fazer?\n",
        "# meus documentos estão dentro da casa na enchente, devo tentar salva-los?\n",
        "# qual o telefone do Corpo de Bombeiros ou Defesa Civil\n",
        "iniciar_chat_com_memoria()"
      ],
      "metadata": {
        "colab": {
          "base_uri": "https://localhost:8080/"
        },
        "id": "SL6b1LdXdRN-",
        "outputId": "d69d4c8b-efe4-4699-cf6f-108017187941"
      },
      "execution_count": 20,
      "outputs": [
        {
          "output_type": "stream",
          "name": "stdout",
          "text": [
            "👋 Olá! Sou um assistente virtual especializado em desastres naturais.\n",
            "\n",
            "Digite seu **nome** seguido do número ou nome do seu perfil:\n",
            " 1 - Vítima: Você está em perigo imediato e precisa de ajuda.\n",
            " 2 - Morador: Você mora em região afetada ou sob risco.\n",
            " 3 - Familiar: Está procurando informações sobre alguém afetado.\n",
            "\n",
            "Digite seu nome e número do perfil (ex: Ana 2): DANILO 1\n",
            "\n",
            "✅ Perfil selecionado: VITIMA — como posso te ajudar hoje, Danilo?\n",
            "⚠️ Obs. IMPORTANTE: esta orientação não substitui contato com os serviços oficiais (Defesa Civil, Corpo de Bombeiros, SAMU etc.).(Digite 'sair' para encerrar)\n",
            "\n",
            "🧑‍💬 Danilo: esta tudo alagado e estou no telhado de casa, o que devo fazer?\n",
            "\n",
            "🤖 Assistente: Se você estiver no telhado de casa e tudo estiver alagado, é importante tomar algumas precauções:\n",
            "\n",
            "1. **Mantenha a calma**: Tente não entrar em pânico, pois isso pode dificultar a tomada de decisões.\n",
            "\n",
            "2. **Chame por ajuda**: Tente entrar em contato com o Corpo de Bombeiros ou defesa civil para informar sua situação e solicitar assistência.\n",
            "\n",
            "3. **Fique visível**: Se possível, faça sinalizadores como acenar ou usar um pano de cor brilhante para tornar-se visível para os socorristas.\n",
            "\n",
            "4. **Evite se mover desnecessariamente**: Ficar no telhado é melhor do que tentar nadar em águas desconhecidas e potencialmente perigosas. \n",
            "\n",
            "5. **Desligue a energia elétrica**: Se você tiver acesso seguro a isso, desligue a energia para evitar riscos de choques elétricos.\n",
            "\n",
            "6. **Espere por resgate**: Continue a buscar por ajuda e mantenha-se no local seguro.\n",
            "\n",
            "Lembre-se que sua segurança é a prioridade. \n",
            "\n",
            "🧑‍💬 Danilo: meus documentos estão dentro da casa na enchente, devo tentar salva-los?\n",
            "\n",
            "🤖 Assistente: Se houver um risco de inundação e a água já estiver entrando na sua casa, a prioridade deve ser a sua segurança e a de sua família. É mais importante sair para locais seguros do que tentar salvar seus pertences. Se houver tempo e for seguro, leve itens essenciais para um andar superior, mas não arrisque a sua vida em busca de documentos. \n",
            "\n",
            "🧑‍💬 Danilo: qual o telefone do Corpo de Bombeiros ou Defesa Civil\n",
            "\n",
            "🤖 Assistente: O telefone do Corpo de Bombeiros é 193 e, para a Defesa Civil, é 199. \n",
            "\n",
            "🧑‍💬 Danilo: SAIR\n",
            "👋 Sessão encerrada. Se cuide, Danilo!\n"
          ]
        }
      ]
    },
    {
      "cell_type": "code",
      "source": [
        "# --------------------------------------------------------\n",
        "# 5.2) testando perfil Vitima, caso de incêndios\n",
        "# -------------------------------------------------------\n",
        "#script de perguntas:\n",
        "# minha casa esta pegando fogo o que devo fazer?\n",
        "# eu queimei o braço e agora ?\n",
        "iniciar_chat_com_memoria()"
      ],
      "metadata": {
        "colab": {
          "base_uri": "https://localhost:8080/"
        },
        "id": "3zY-nDa1qEw0",
        "outputId": "6cc0d573-3d5d-402f-c977-d0c89344da26"
      },
      "execution_count": 22,
      "outputs": [
        {
          "output_type": "stream",
          "name": "stdout",
          "text": [
            "👋 Olá! Sou um assistente virtual especializado em desastres naturais.\n",
            "\n",
            "Digite seu **nome** seguido do número ou nome do seu perfil:\n",
            " 1 - Vítima: Você está em perigo imediato e precisa de ajuda.\n",
            " 2 - Morador: Você mora em região afetada ou sob risco.\n",
            " 3 - Familiar: Está procurando informações sobre alguém afetado.\n",
            "\n",
            "Digite seu nome e número do perfil (ex: Ana 2): DANILO 1\n",
            "\n",
            "✅ Perfil selecionado: VITIMA — como posso te ajudar hoje, Danilo?\n",
            "⚠️ Obs. IMPORTANTE: esta orientação não substitui contato com os serviços oficiais (Defesa Civil, Corpo de Bombeiros, SAMU etc.).(Digite 'sair' para encerrar)\n",
            "\n",
            "🧑‍💬 Danilo: minha casa esta pegando fogo o que devo fazer?\n",
            "\n",
            "🤖 Assistente: Se a sua casa está pegando fogo, siga estas etapas:\n",
            "\n",
            "1. **Notifique rapidamente**: Grite \"Kaji da!\" para alertar familiares e vizinhos e ligue para 119 imediatamente, informando o local e a situação.\n",
            "\n",
            "2. **Tente apagar rapidamente (se seguro)**: Se o fogo ainda não se espalhou para o teto e você se sentir seguro, tente apagar o fogo usando água, extintores de incêndio, ou objetos ao seu redor como um cobertor molhado. Contudo, não tente extinguir o fogo sozinho se ele for muito grande.\n",
            "\n",
            "3. **Evacue o local rapidamente**: Se as atividades iniciais de combate a incêndio não forem eficazes ou se o fogo se espalhar, evacue imediatamente. Feche as janelas e portas do cômodo em chamas ao sair para bloquear o fluxo de ar.\n",
            "\n",
            "4. **Informe seus vizinhos**: Alertar os vizinhos pode ajudá-los a evacuar também.\n",
            "\n",
            "Lembre-se: a segurança é a prioridade máxima. Se em qualquer momento você sentir que está em perigo, evite tentar apagar o fogo e saia do local. \n",
            "\n",
            "🧑‍💬 Danilo: eu queimei o braço e agora ?\n",
            "\n",
            "🤖 Assistente: Se você queimou o braço, siga os seguintes passos:\n",
            "\n",
            "1. **Limpeza da Queimadura**: Lave a queimadura delicadamente com água corrente em temperatura ambiente por no máximo um minuto. Isso ajudará a resfriar a área afetada e aliviar a dor.\n",
            "\n",
            "2. **Proteção da Queimadura**: Cubra a queimadura com um curativo limpo, como uma compressa estéril ou gaze. Se disponível, você pode usar vaselina para proteger a área.\n",
            "\n",
            "3. **Aplicação da Bandagem**: Aplique a bandagem para manter o curativo no lugar, mas seja delicado, pois a queimadura pode ser muito dolorosa.\n",
            "\n",
            "4. **Hidratação**: Beba muitos líquidos. Se sentir sede, tome água lentamente.\n",
            "\n",
            "5. **Evitar Gelo**: Não aplique gelo diretamente na queimadura, pois isso pode causar constrição e diminuir a irrigação sanguínea.\n",
            "\n",
            "6. **Monitoramento**: Fique atento a sinais de infecção ou piora da queimadura. \n",
            "\n",
            "Se a queimadura for grave ou se você tiver dúvidas sobre como proceder, procure atendimento médico. \n",
            "\n",
            "🧑‍💬 Danilo: SAIR\n",
            "👋 Sessão encerrada. Se cuide, Danilo!\n"
          ]
        }
      ]
    },
    {
      "cell_type": "code",
      "source": [
        "# --------------------------------------------------------\n",
        "# 5.2) testando perfil \"Morador\", caso de enchente\n",
        "# -------------------------------------------------------\n",
        "#script de perguntas:\n",
        "# Moro em uma area de risco e esta chovendo muito forte, o que eu faço?\n",
        "# o que é um plano de evacuação?\n",
        "# qual é a previsão do tempo, vai parar de chover ?\n",
        "iniciar_chat_com_memoria()"
      ],
      "metadata": {
        "colab": {
          "base_uri": "https://localhost:8080/"
        },
        "id": "DjvTdXAjqTN5",
        "outputId": "fe25afbf-3fca-4f2f-f5ea-a5af2abb90c0"
      },
      "execution_count": 23,
      "outputs": [
        {
          "output_type": "stream",
          "name": "stdout",
          "text": [
            "👋 Olá! Sou um assistente virtual especializado em desastres naturais.\n",
            "\n",
            "Digite seu **nome** seguido do número ou nome do seu perfil:\n",
            " 1 - Vítima: Você está em perigo imediato e precisa de ajuda.\n",
            " 2 - Morador: Você mora em região afetada ou sob risco.\n",
            " 3 - Familiar: Está procurando informações sobre alguém afetado.\n",
            "\n",
            "Digite seu nome e número do perfil (ex: Ana 2): DANILO 2\n",
            "\n",
            "✅ Perfil selecionado: MORADOR — como posso te ajudar hoje, Danilo?\n",
            "⚠️ Obs. IMPORTANTE: esta orientação não substitui contato com os serviços oficiais (Defesa Civil, Corpo de Bombeiros, SAMU etc.).(Digite 'sair' para encerrar)\n",
            "\n",
            "🧑‍💬 Danilo: Moro em uma area de risco e esta chovendo muito forte, o que eu faço?\n",
            "\n",
            "🤖 Assistente: Se você mora em uma área de risco e está chovendo muito forte, siga estas orientações:\n",
            "\n",
            "1. **Mantenha-se alerta**: Fique atento às condições climáticas e busque informações sobre a situação na sua área.\n",
            "2. **Considere evacuação**: Se houver risco de deslizamento, pense em deixar o local. Se não for possível, tente se mover para um andar mais alto, se isso for seguro.\n",
            "3. **Tenha um plano de evacuação**: Se você ainda não possui um plano, converse com seus vizinhos e as autoridades locais sobre como se preparar em caso de emergência.\n",
            "4. **Leve itens essenciais**: Se houver tempo, mova água potável, alimentos e roupas secas para um local seguro.\n",
            "5. **Desligue a energia elétrica**: Desligue a energia na caixa de força para evitar choques elétricos.\n",
            "6. **Evite áreas perigosas**: Se você estiver em casa, não use o telefone, não fique próximo a janelas, portas metálicas ou estruturas altas.\n",
            "7. **Esteja ciente dos locais que podem inundar**: Conheça as áreas que costumam alagar e evite-as.\n",
            "\n",
            "A segurança é o mais importante, então não hesite em agir caso perceba situações perigosas. \n",
            "\n",
            "🧑‍💬 Danilo: o que é um plano de evacuação?\n",
            "\n",
            "🤖 Assistente: Um plano de evacuação é um conjunto de orientações e procedimentos que descrevem como as pessoas devem sair de um local em caso de emergência ou desastre. Ele inclui informações sobre os caminhos mais seguros a serem seguidos, locais de refúgio, pontos de encontro, e as responsabilidades das pessoas durante a evacuação. O objetivo é garantir que todos possam evacuar de forma segura e eficiente, minimizando os riscos à vida e à saúde. \n",
            "\n",
            "🧑‍💬 Danilo: qual é a previsão do tempo, vai parar de chover ?\n",
            "\n",
            "🤖 Assistente (Previsão do Tempo):\n",
            "🌦️ Previsão para os próximos 3 dias em Sao Paulo:\n",
            "\n",
            "- HOJE (2025-06-06): Patchy rain nearby, mínima 17°C / máxima 21°C\n",
            "- AMANHÃ (2025-06-07): Sunny, mínima 16°C / máxima 24°C\n",
            "- DEPOIS DE AMANHÃ (2025-06-08): Sunny, mínima 16°C / máxima 27°C\n",
            "\n",
            "🧑‍💬 Danilo: SAIR\n",
            "👋 Sessão encerrada. Se cuide, Danilo!\n"
          ]
        }
      ]
    },
    {
      "cell_type": "code",
      "source": [
        "# --------------------------------------------------------\n",
        "# 5.2) testando perfil \"Morador\", caso de incêndios\n",
        "# -------------------------------------------------------\n",
        "#script de perguntas:\n",
        "# estou vendo minha casa pegar fogo, devo entrar e tentar salvar meus pertences?\n",
        "# devo avisar os vizinhos ?\n",
        "iniciar_chat_com_memoria()"
      ],
      "metadata": {
        "colab": {
          "base_uri": "https://localhost:8080/"
        },
        "id": "h2q7g44BuvSF",
        "outputId": "4aeb755a-c63f-4acd-854b-ea5d0f23bd2d"
      },
      "execution_count": 25,
      "outputs": [
        {
          "output_type": "stream",
          "name": "stdout",
          "text": [
            "👋 Olá! Sou um assistente virtual especializado em desastres naturais.\n",
            "\n",
            "Digite seu **nome** seguido do número ou nome do seu perfil:\n",
            " 1 - Vítima: Você está em perigo imediato e precisa de ajuda.\n",
            " 2 - Morador: Você mora em região afetada ou sob risco.\n",
            " 3 - Familiar: Está procurando informações sobre alguém afetado.\n",
            "\n",
            "Digite seu nome e número do perfil (ex: Ana 2): DANILO 2\n",
            "\n",
            "✅ Perfil selecionado: MORADOR — como posso te ajudar hoje, Danilo?\n",
            "⚠️ Obs. IMPORTANTE: esta orientação não substitui contato com os serviços oficiais (Defesa Civil, Corpo de Bombeiros, SAMU etc.).(Digite 'sair' para encerrar)\n",
            "\n",
            "🧑‍💬 Danilo: estou vendo minha casa pegar fogo, devo entrar e tentar salvar meus pertences?\n",
            "\n",
            "🤖 Assistente: Não, você não deve entrar na sua casa que está pegando fogo. É importante evacuar o local imediatamente e ligar para o Corpo de Bombeiros. Tentar salvar seus pertences pode colocar sua vida em risco. Priorize a sua segurança e a de sua família. \n",
            "\n",
            "🧑‍💬 Danilo: devo avisar os vizinhos ?\n",
            "\n",
            "🤖 Assistente: Sim, é importante avisar os vizinhos sobre riscos de desabamentos e outras situações de perigo, como incêndios. A comunicação pode ajudar a garantir a segurança de todos. \n",
            "\n",
            "🧑‍💬 Danilo: Mas não é desabamento é incêndios\n",
            "\n",
            "🤖 Assistente: Sim, você deve avisar seus vizinhos sobre o incêndio. É importante notificar rapidamente as pessoas ao seu redor para garantir a segurança de todos. Além disso, ligue para o número de emergência 119 para informar o local e a situação do incêndio. \n",
            "\n",
            "🧑‍💬 Danilo: sair\n",
            "👋 Sessão encerrada. Se cuide, Danilo!\n"
          ]
        }
      ]
    },
    {
      "cell_type": "code",
      "source": [
        "# --------------------------------------------------------\n",
        "# 5.2) testando perfil \"Familiares\", caso de enchente\n",
        "# -------------------------------------------------------\n",
        "#script de perguntas:\n",
        "# a area que minha mão mora esta alagada e não estou conseguido contado por telefone o que devo fazer?\n",
        "# devo entrar na area alagada para procura-la ?\n",
        "iniciar_chat_com_memoria()"
      ],
      "metadata": {
        "colab": {
          "base_uri": "https://localhost:8080/"
        },
        "id": "oMYT_zVMvpY0",
        "outputId": "b8d27923-ff96-4568-b4f4-e8625abc7860"
      },
      "execution_count": 26,
      "outputs": [
        {
          "output_type": "stream",
          "name": "stdout",
          "text": [
            "👋 Olá! Sou um assistente virtual especializado em desastres naturais.\n",
            "\n",
            "Digite seu **nome** seguido do número ou nome do seu perfil:\n",
            " 1 - Vítima: Você está em perigo imediato e precisa de ajuda.\n",
            " 2 - Morador: Você mora em região afetada ou sob risco.\n",
            " 3 - Familiar: Está procurando informações sobre alguém afetado.\n",
            "\n",
            "Digite seu nome e número do perfil (ex: Ana 2): danilo 3\n",
            "\n",
            "✅ Perfil selecionado: FAMILIAR — como posso te ajudar hoje, Danilo?\n",
            "⚠️ Obs. IMPORTANTE: esta orientação não substitui contato com os serviços oficiais (Defesa Civil, Corpo de Bombeiros, SAMU etc.).(Digite 'sair' para encerrar)\n",
            "\n",
            "🧑‍💬 Danilo: a area que minha mão mora esta alagada e não estou conseguido contado por telefone o que devo fazer?\n",
            "\n",
            "🤖 Assistente: Se a área onde sua mãe mora está alagada e você não consegue contato por telefone, aqui estão algumas recomendações:\n",
            "\n",
            "1. **Verifique informações**: Tente acompanhar as notícias locais através da internet ou de emissoras de rádio, para obter atualizações sobre a situação da inundação e sobre as operações de resgate que possam estar em andamento.\n",
            "\n",
            "2. **Entre em contato com vizinhos**: Se possível, tente falar com vizinhos ou conhecidos que possam ter visto sua mãe ou saber de sua situação.\n",
            "\n",
            "3. **Use serviços de mensagem**: Tente utilizar serviços de mensagens ou redes sociais para entrar em contato com ela ou com pessoas próximas.\n",
            "\n",
            "4. **Mensagem gravada**: Você pode gravar uma mensagem sobre sua preocupação. Ligue para 171, pressione 1, digite o número de telefone dela e grave uma mensagem.\n",
            "\n",
            "5. **Aguarde informações das autoridades**: É importante aguardar que as autoridades deem informações sobre a situação e sobre quando será seguro retornar ao local.\n",
            "\n",
            "6. **Considere o envio de equipes de resgate**: Caso haja um serviço de resgate na área que possa verificar a situação da sua mãe, considere informar as autoridades locais sobre a necessidade de um atendimento especial.\n",
            "\n",
            "7. **Seja paciente e evite riscos**: A comunicação pode estar congestionada e é essencial que você evite se colocar em risco tentando ir até a área afetada.\n",
            "\n",
            "Lembre-se de priorizar a segurança e a saúde enquanto busca informações sobre sua mãe. \n",
            "\n",
            "🧑‍💬 Danilo: devo entrar na area alagada para procura-la ?\n",
            "\n",
            "🤖 Assistente: Não, você não deve entrar em áreas alagadas. Andar na água pode ser perigoso devido à correnteza e à possibilidade de contaminação. Se a situação for urgente, procure um lugar seguro e avise as autoridades ou equipes de resgate para ajudar na busca. \n",
            "\n",
            "🧑‍💬 Danilo: sair\n",
            "👋 Sessão encerrada. Se cuide, Danilo!\n"
          ]
        }
      ]
    },
    {
      "cell_type": "code",
      "source": [
        "# --------------------------------------------------------\n",
        "# 5.2) testando perfil \"o\tFamiliares\", caso de incêndios\n",
        "# -------------------------------------------------------\n",
        "#script de perguntas:\n",
        "# vi na tv que a casa da minha irmã pegou fogo e não estou conseguindo contato com ela o que eu faço ?\n",
        "# o que é serviços de quadro de mensagens de desastres?\n",
        "iniciar_chat_com_memoria()"
      ],
      "metadata": {
        "colab": {
          "base_uri": "https://localhost:8080/"
        },
        "id": "T_5Awj_zwyMW",
        "outputId": "e1c83ee9-c812-4de8-ed6b-02abe93bdf46"
      },
      "execution_count": 28,
      "outputs": [
        {
          "output_type": "stream",
          "name": "stdout",
          "text": [
            "👋 Olá! Sou um assistente virtual especializado em desastres naturais.\n",
            "\n",
            "Digite seu **nome** seguido do número ou nome do seu perfil:\n",
            " 1 - Vítima: Você está em perigo imediato e precisa de ajuda.\n",
            " 2 - Morador: Você mora em região afetada ou sob risco.\n",
            " 3 - Familiar: Está procurando informações sobre alguém afetado.\n",
            "\n",
            "Digite seu nome e número do perfil (ex: Ana 2): DANILO 3\n",
            "\n",
            "✅ Perfil selecionado: FAMILIAR — como posso te ajudar hoje, Danilo?\n",
            "⚠️ Obs. IMPORTANTE: esta orientação não substitui contato com os serviços oficiais (Defesa Civil, Corpo de Bombeiros, SAMU etc.).(Digite 'sair' para encerrar)\n",
            "\n",
            "🧑‍💬 Danilo: vi na tv que a casa da minha irmã pegou fogo e não estou conseguindo contato com ela o que eu faço ?\n",
            "\n",
            "🤖 Assistente: Se você viu que a casa da sua irmã pegou fogo e não consegue contato com ela, faça o seguinte:\n",
            "\n",
            "1. **Mantenha a calma**: É importante não entrar em pânico para poder pensar claramente.\n",
            "\n",
            "2. **Ligue imediatamente para o Corpo de Bombeiros**: Disque 193 (ligação gratuita) e informe o que aconteceu, fornecendo seu nome, o endereço do acidente e um ponto de referência.\n",
            "\n",
            "3. **Verifique com vizinhos**: Se possível, tente obter informações com os vizinhos ou pessoas que possam estar na área para saber se sua irmã foi evacuada ou se alguém sabe de seu estado.\n",
            "\n",
            "4. **Busque informações em hospitais**: Entre em contato com hospitais locais, pois se ela tiver sido ferida, pode estar sendo recebida em algum deles.\n",
            "\n",
            "5. **Utilize serviços de mensagens**: Se a comunicação estiver congestionada, você pode gravar uma mensagem ou ouvir uma mensagem através do serviço de quadro de mensagens de desastres da sua operadora de celular para tentar entrar em contato com outros familiares.\n",
            "\n",
            "Lembre-se de que a segurança é a prioridade e você deve agir rapidamente. \n",
            "\n",
            "🧑‍💬 Danilo: o que é serviços de quadro de mensagens de desastres?\n",
            "\n",
            "🤖 Assistente: Os serviços de quadro de mensagens de desastres são oferecidos pelas operadoras de celular e permitem que as pessoas enviem e recebam mensagens sobre situações de emergência ou desastres. Esses serviços podem incluir informações sobre evacuação, locais de abrigo e outras orientações importantes durante desastres. Para mais detalhes sobre como usar esses serviços, recomenda-se acessar o site da operadora de celular. \n",
            "\n",
            "🧑‍💬 Danilo: SAIR\n",
            "👋 Sessão encerrada. Se cuide, Danilo!\n"
          ]
        }
      ]
    }
  ]
}